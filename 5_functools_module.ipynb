{
 "cells": [
  {
   "cell_type": "markdown",
   "metadata": {
    "collapsed": true
   },
   "source": [
    "# functools module"
   ]
  },
  {
   "cell_type": "markdown",
   "metadata": {},
   "source": [
    "# partial"
   ]
  },
  {
   "cell_type": "code",
   "execution_count": null,
   "metadata": {},
   "outputs": [],
   "source": [
    "import time\n",
    "\n",
    "# func from some a library you don't have control of\n",
    "def create_token(company, role, user):\n",
    "    return '{company}:{secret}:{user}:{role}'.format(company=company, \n",
    "                                                     secret=int(time.time()),\n",
    "                                                     role=role, \n",
    "                                                     user=user)\n",
    "\n",
    "token = create_token('elife', 'admin', 'Rick')\n",
    "print(token)"
   ]
  },
  {
   "cell_type": "code",
   "execution_count": null,
   "metadata": {},
   "outputs": [],
   "source": [
    "# imagine you always want the company set to `elife`\n",
    "# you could use partial\n",
    "\n",
    "from functools import partial\n",
    "\n",
    "partial_create_token = partial(create_token, 'elife')\n",
    "\n",
    "users = (('admin', 'Rick'), ('standard', 'Morty'), ('read-only', 'Jerry'))\n",
    "\n",
    "for user in users:\n",
    "    token = partial_create_token(user[0], user[1])\n",
    "    print(token)"
   ]
  },
  {
   "cell_type": "markdown",
   "metadata": {},
   "source": [
    "# lru_cache (least recently used cache)"
   ]
  },
  {
   "cell_type": "code",
   "execution_count": null,
   "metadata": {},
   "outputs": [],
   "source": [
    "'''Decorator to wrap a function with a memoizing callable that saves up to the maxsize most recent calls. \n",
    "\n",
    "It can save time when an expensive or I/O bound function is periodically called with the same arguments.\n",
    "\n",
    "Since a dictionary is used to cache results, the positional and keyword arguments to the function must be hashable.\n",
    "\n",
    "If maxsize is set to None, the LRU feature is disabled and the cache can grow without bound. The LRU feature performs best when maxsize is a power-of-two.\n",
    "\n",
    "If typed is set to true, function arguments of different types will be cached separately. For example, f(3) and f(3.0) will be treated as distinct calls with distinct results.\n",
    "\n",
    "'''\n",
    "# Note that it was added in Python 3.2.\n",
    "\n",
    "from functools import lru_cache\n",
    "import requests\n",
    "\n",
    "from data_utils import ARTICLES_URL\n",
    "\n",
    "\n",
    "@lru_cache(maxsize=24)\n",
    "def get_data(url=''):\n",
    "    response = requests.get(url=url)\n",
    "    if response.status_code == 200:\n",
    "        return response.json()\n",
    "    return {}\n",
    "\n",
    "\n",
    "def multiple_requests():\n",
    "    for req in range(20):\n",
    "        data = get_data(ARTICLES_URL)\n",
    "\n",
    "\n",
    "# make multiple requests\n",
    "multiple_requests()\n",
    "print(get_data.cache_info())  # CacheInfo(hits=19, misses=1, maxsize=24, currsize=1)\n",
    "\n",
    "# and some more....\n",
    "multiple_requests()\n",
    "print(get_data.cache_info())  # CacheInfo(hits=39, misses=1, maxsize=24, currsize=1)\n",
    "\n",
    "# now invalidate the cache\n",
    "get_data.cache_clear()\n",
    "\n",
    "# make multiple requests again\n",
    "multiple_requests()\n",
    "print(get_data.cache_info())  # CacheInfo(hits=19, misses=1, maxsize=24, currsize=1)"
   ]
  },
  {
   "cell_type": "code",
   "execution_count": null,
   "metadata": {},
   "outputs": [],
   "source": []
  }
 ],
 "metadata": {
  "kernelspec": {
   "display_name": "Python 3",
   "language": "python",
   "name": "python3"
  },
  "language_info": {
   "codemirror_mode": {
    "name": "ipython",
    "version": 3
   },
   "file_extension": ".py",
   "mimetype": "text/x-python",
   "name": "python",
   "nbconvert_exporter": "python",
   "pygments_lexer": "ipython3",
   "version": "3.6.3"
  }
 },
 "nbformat": 4,
 "nbformat_minor": 1
}
