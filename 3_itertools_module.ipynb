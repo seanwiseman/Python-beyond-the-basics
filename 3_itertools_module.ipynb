{
 "cells": [
  {
   "cell_type": "markdown",
   "metadata": {},
   "source": [
    "# itertools module"
   ]
  },
  {
   "cell_type": "code",
   "execution_count": null,
   "metadata": {},
   "outputs": [],
   "source": [
    "# some utilities\n",
    "\n",
    "import pprint\n",
    "\n",
    "from data_utils import get_article_items\n",
    "\n",
    "pp = pprint.PrettyPrinter(indent=4)"
   ]
  },
  {
   "cell_type": "markdown",
   "metadata": {},
   "source": [
    "# count"
   ]
  },
  {
   "cell_type": "code",
   "execution_count": null,
   "metadata": {},
   "outputs": [],
   "source": [
    "from itertools import count\n",
    "\n",
    "# Make an iterator that returns evenly spaced values starting with number start.\n",
    "\n",
    "for num in count(start=100, step=10):\n",
    "    print(num)\n"
   ]
  },
  {
   "cell_type": "markdown",
   "metadata": {},
   "source": [
    "# islice"
   ]
  },
  {
   "cell_type": "code",
   "execution_count": null,
   "metadata": {},
   "outputs": [],
   "source": [
    "from itertools import islice\n",
    "\n",
    "# Make an iterator that returns selected elements from the iterable.\n",
    "\n",
    "for num in islice(count(100, 10), 10):\n",
    "    print(num)"
   ]
  },
  {
   "cell_type": "markdown",
   "metadata": {},
   "source": [
    "# cycle"
   ]
  },
  {
   "cell_type": "code",
   "execution_count": null,
   "metadata": {},
   "outputs": [],
   "source": [
    "import random\n",
    "\n",
    "# imagine you had to keep checking these urls until one of them returned a 500\n",
    "URLS = ['https://foo.com', 'https://bar.org', 'https://spam.co.uk']\n",
    "SERVER_ERROR = 500\n",
    "\n",
    "\n",
    "def mock_get(url):\n",
    "    return random.choice([200, 200, SERVER_ERROR])\n",
    "\n",
    "\n",
    "response_error = False\n",
    "\n",
    "while not response_error:\n",
    "    for url in URLS:\n",
    "        # do some web things\n",
    "        response_code = mock_get(url)\n",
    "        print(response_code)\n",
    "        \n",
    "        if response_code == SERVER_ERROR:\n",
    "            response_error = True\n",
    "            break"
   ]
  },
  {
   "cell_type": "code",
   "execution_count": null,
   "metadata": {},
   "outputs": [],
   "source": [
    "from itertools import cycle\n",
    "\n",
    "# The cycle iterator from itertools allows you to create an iterator \n",
    "# that will cycle through a series of values infinitely.\n",
    "\n",
    "for url in cycle(URLS):\n",
    "    response_code = mock_get(url)\n",
    "    print(response_code)\n",
    "        \n",
    "    if response_code == SERVER_ERROR:\n",
    "        break"
   ]
  },
  {
   "cell_type": "code",
   "execution_count": null,
   "metadata": {},
   "outputs": [],
   "source": []
  }
 ],
 "metadata": {
  "kernelspec": {
   "display_name": "Python 3",
   "language": "python",
   "name": "python3"
  },
  "language_info": {
   "codemirror_mode": {
    "name": "ipython",
    "version": 3
   },
   "file_extension": ".py",
   "mimetype": "text/x-python",
   "name": "python",
   "nbconvert_exporter": "python",
   "pygments_lexer": "ipython3",
   "version": "3.6.3"
  }
 },
 "nbformat": 4,
 "nbformat_minor": 1
}
