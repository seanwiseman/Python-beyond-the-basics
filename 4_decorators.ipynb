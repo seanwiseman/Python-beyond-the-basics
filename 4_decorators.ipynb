{
 "cells": [
  {
   "cell_type": "markdown",
   "metadata": {
    "collapsed": true
   },
   "source": [
    "# decorators"
   ]
  },
  {
   "cell_type": "code",
   "execution_count": null,
   "metadata": {},
   "outputs": [],
   "source": [
    "# problem: you want to output how long your functions take to execute\n",
    "\n",
    "import random\n",
    "import time\n",
    "\n",
    "def sluggish_func():\n",
    "    print('doing stuff...')\n",
    "    time.sleep(random.randint(0, 2))\n",
    "    return"
   ]
  },
  {
   "cell_type": "code",
   "execution_count": null,
   "metadata": {},
   "outputs": [],
   "source": [
    "# solution 1\n",
    "start = time.time()\n",
    "sluggish_func()\n",
    "finish = time.time() - start\n",
    "\n",
    "print(finish)"
   ]
  },
  {
   "cell_type": "code",
   "execution_count": null,
   "metadata": {},
   "outputs": [],
   "source": [
    "# solution 2 (using a decorator)\n",
    "\n",
    "def duration(func):\n",
    "    def wrapper(*args, **kwargs):\n",
    "        start = time.time()\n",
    "        func(*args, **kwargs)\n",
    "        print(time.time() - start)\n",
    "        \n",
    "    return wrapper\n",
    "\n",
    "@duration\n",
    "def sluggish_func():\n",
    "    print('doing stuff...')\n",
    "    time.sleep(random.randint(0, 2))\n",
    "    return\n",
    "\n",
    "# the same as: \n",
    "# sluggish_func = duration(sluggish_func)\n",
    "\n",
    "sluggish_func()\n",
    "        "
   ]
  },
  {
   "cell_type": "code",
   "execution_count": null,
   "metadata": {},
   "outputs": [],
   "source": []
  }
 ],
 "metadata": {
  "kernelspec": {
   "display_name": "Python 3",
   "language": "python",
   "name": "python3"
  },
  "language_info": {
   "codemirror_mode": {
    "name": "ipython",
    "version": 3
   },
   "file_extension": ".py",
   "mimetype": "text/x-python",
   "name": "python",
   "nbconvert_exporter": "python",
   "pygments_lexer": "ipython3",
   "version": "3.6.3"
  }
 },
 "nbformat": 4,
 "nbformat_minor": 1
}
