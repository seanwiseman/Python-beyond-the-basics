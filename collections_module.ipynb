{
 "cells": [
  {
   "cell_type": "markdown",
   "metadata": {
    "collapsed": true
   },
   "source": [
    "# collections module\n"
   ]
  },
  {
   "cell_type": "code",
   "execution_count": null,
   "metadata": {},
   "outputs": [],
   "source": [
    "# some utlities\n",
    "\n",
    "import pprint\n",
    "import requests\n",
    "\n",
    "ARTICLES_URL = 'https://api.elifesciences.org/articles'\n",
    "\n",
    "pp = pprint.PrettyPrinter(indent=4)\n",
    "\n",
    "\n",
    "def get_data(url=''):\n",
    "    response = requests.get(url=url)\n",
    "    if response.status_code == 200:\n",
    "        return response.json()\n",
    "    return {}\n",
    "\n",
    "\n",
    "def get_article_items():\n",
    "    return get_data(url=ARTICLES_URL)['items']"
   ]
  },
  {
   "cell_type": "markdown",
   "metadata": {},
   "source": [
    "# OrderedDict"
   ]
  },
  {
   "cell_type": "code",
   "execution_count": null,
   "metadata": {},
   "outputs": [],
   "source": []
  },
  {
   "cell_type": "markdown",
   "metadata": {},
   "source": [
    "# defaultdict"
   ]
  },
  {
   "cell_type": "code",
   "execution_count": null,
   "metadata": {},
   "outputs": [],
   "source": []
  },
  {
   "cell_type": "markdown",
   "metadata": {},
   "source": [
    "# namedtuple"
   ]
  },
  {
   "cell_type": "code",
   "execution_count": null,
   "metadata": {},
   "outputs": [],
   "source": []
  },
  {
   "cell_type": "markdown",
   "metadata": {},
   "source": [
    "# ChainMap"
   ]
  },
  {
   "cell_type": "code",
   "execution_count": null,
   "metadata": {},
   "outputs": [],
   "source": []
  },
  {
   "cell_type": "markdown",
   "metadata": {},
   "source": [
    "# Counter"
   ]
  },
  {
   "cell_type": "code",
   "execution_count": null,
   "metadata": {},
   "outputs": [],
   "source": [
    "# convenient and fast tallies\n",
    "\n",
    "from collections import Counter\n",
    "\n",
    "\"\"\"\n",
    "Small task to grab some article abstracts, find the 20 most common words used.\n",
    "\"\"\"\n",
    "\n",
    "# get a list of abstract texts\n",
    "abstracts = [a['abstract']['content'][0]['text'] for a in get_article_items()]\n",
    "\n",
    "# join them all up into one string and then seperate each word by space into a list\n",
    "# e.g. ['The', 'brain', 'needs', 'to', 'predict', 'how', 'the', 'body', 'reacts', ...]\n",
    "all_words = ' '.join(abstracts).split(' ')\n",
    "\n",
    "\n",
    "# a possible way to get the count using just dict\n",
    "result = {}\n",
    "for word in all_words:\n",
    "    if result.get(word): \n",
    "        result[word] += 1\n",
    "    else: \n",
    "        result[word] = 1\n",
    "\n",
    "print(result)\n",
    "# now you have to find the 20 most common \n",
    "# ??...\n",
    "\n",
    "\n",
    "# an easier way using Counter()\n",
    "result = Counter(all_words)\n",
    "print(result.most_common(20))\n"
   ]
  },
  {
   "cell_type": "code",
   "execution_count": null,
   "metadata": {},
   "outputs": [],
   "source": []
  }
 ],
 "metadata": {
  "kernelspec": {
   "display_name": "Python 3",
   "language": "python",
   "name": "python3"
  },
  "language_info": {
   "codemirror_mode": {
    "name": "ipython",
    "version": 3
   },
   "file_extension": ".py",
   "mimetype": "text/x-python",
   "name": "python",
   "nbconvert_exporter": "python",
   "pygments_lexer": "ipython3",
   "version": "3.6.3"
  }
 },
 "nbformat": 4,
 "nbformat_minor": 1
}
