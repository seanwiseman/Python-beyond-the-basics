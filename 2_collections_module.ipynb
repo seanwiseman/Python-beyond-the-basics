{
 "cells": [
  {
   "cell_type": "markdown",
   "metadata": {
    "collapsed": true
   },
   "source": [
    "# collections module\n"
   ]
  },
  {
   "cell_type": "code",
   "execution_count": null,
   "metadata": {},
   "outputs": [],
   "source": [
    "# some utilities\n",
    "\n",
    "import pprint\n",
    "\n",
    "from data_utils import get_article_items\n",
    "\n",
    "pp = pprint.PrettyPrinter(indent=4)"
   ]
  },
  {
   "cell_type": "markdown",
   "metadata": {},
   "source": [
    "# OrderedDict"
   ]
  },
  {
   "cell_type": "code",
   "execution_count": null,
   "metadata": {},
   "outputs": [],
   "source": [
    "# A type of dictionary that keeps track of the order of the keys as they are added.\n",
    "\n",
    "# dictionaries in python <=3.5, in python 3.6 and up order is kept by default using just `dict`\n",
    "\n",
    "data = {'b': 2, 'a': 1, 'c':3}\n",
    "for key in data:\n",
    "    print(key)"
   ]
  },
  {
   "cell_type": "code",
   "execution_count": null,
   "metadata": {},
   "outputs": [],
   "source": [
    "from collections import OrderedDict\n",
    "\n",
    "# now with an OrderedDict\n",
    "o_dict = OrderedDict(sorted(data.items()))\n",
    "\n",
    "for key in o_dict:\n",
    "    print(key)"
   ]
  },
  {
   "cell_type": "markdown",
   "metadata": {},
   "source": [
    "# defaultdict"
   ]
  },
  {
   "cell_type": "code",
   "execution_count": null,
   "metadata": {},
   "outputs": [],
   "source": [
    "from collections import defaultdict\n",
    "\n",
    "# The defaultdict is a subclass of Python’s dict that accepts a default_factory as its primary argument.\n",
    "\n",
    "abstract = get_article_items()[0]['abstract']['content'][0]['text']\n",
    "words = abstract.split(' ')"
   ]
  },
  {
   "cell_type": "code",
   "execution_count": null,
   "metadata": {},
   "outputs": [],
   "source": [
    "# with normal dict\n",
    "\n",
    "reg_dict = {}\n",
    "for word in words:\n",
    "    if word in reg_dict:\n",
    "        reg_dict[word] += 1\n",
    "    else:\n",
    "        reg_dict[word] = 1\n",
    "\n",
    "print(reg_dict)"
   ]
  },
  {
   "cell_type": "code",
   "execution_count": null,
   "metadata": {},
   "outputs": [],
   "source": [
    "# now with a defaultdict\n",
    "\n",
    "d_dict = defaultdict(int)\n",
    "for word in words:\n",
    "    d_dict[word] += 1\n",
    "    \n",
    "print(d_dict)"
   ]
  },
  {
   "cell_type": "markdown",
   "metadata": {},
   "source": [
    "# namedtuple"
   ]
  },
  {
   "cell_type": "code",
   "execution_count": 34,
   "metadata": {},
   "outputs": [
    {
     "name": "stdout",
     "output_type": "stream",
     "text": [
      "<class '__main__.Article'>\n",
      "title:  Activation of Toll-like receptors nucleates assembly of the MyDDosome signaling hub\n",
      "doi:  10.7554/eLife.31377\n"
     ]
    }
   ],
   "source": [
    "from collections import namedtuple\n",
    "\n",
    "# factory function for creating tuple subclasses with named fields\n",
    "\n",
    "data = get_article_items()[0]\n",
    "\n",
    "Article = namedtuple('Article', ['title', 'doi'])\n",
    "\n",
    "article = Article(title=data['title'], doi=data['doi'])\n",
    "\n",
    "print(Article)\n",
    "print('title: ', article.title)\n",
    "print('doi: ', article.doi)"
   ]
  },
  {
   "cell_type": "markdown",
   "metadata": {},
   "source": [
    "# ChainMap"
   ]
  },
  {
   "cell_type": "code",
   "execution_count": null,
   "metadata": {},
   "outputs": [],
   "source": [
    "from collections import ChainMap\n",
    "\n",
    "# A ChainMap is a class that provides the ability to link multiple mappings together \n",
    "# such that they end up being a single unit.\n",
    "\n",
    "base_config = {'ip': '127.0.0.1', 'port': 8080, 'proc_name': 'base', 'threading': False}\n",
    "custom_config = {'proc_name': 'custom', 'port': 8081}\n",
    "os_config = {'threading': True}\n",
    "\n",
    "# overrides values from left >>> right\n",
    "CONFIG = ChainMap(custom_config, os_config, base_config)\n",
    "\n",
    "for k, v in CONFIG.items():\n",
    "    print('{0}: {1}'.format(k, v))"
   ]
  },
  {
   "cell_type": "markdown",
   "metadata": {},
   "source": [
    "# Counter"
   ]
  },
  {
   "cell_type": "code",
   "execution_count": null,
   "metadata": {},
   "outputs": [],
   "source": [
    "# convenient and fast tallies\n",
    "\n",
    "from collections import Counter\n",
    "\n",
    "\"\"\"\n",
    "Small task to grab some article abstracts, find the 20 most common words used.\n",
    "\"\"\"\n",
    "\n",
    "# get a list of abstract texts\n",
    "abstracts = [a['abstract']['content'][0]['text'] for a in get_article_items()]\n",
    "\n",
    "# join them all up into one string and then seperate each word by space into a list\n",
    "# e.g. ['The', 'brain', 'needs', 'to', 'predict', 'how', 'the', 'body', 'reacts', ...]\n",
    "all_words = ' '.join(abstracts).split(' ')\n",
    "\n",
    "\n",
    "# a possible way to get the count using just dict\n",
    "result = {}\n",
    "for word in all_words:\n",
    "    if result.get(word): \n",
    "        result[word] += 1\n",
    "    else: \n",
    "        result[word] = 1\n",
    "\n",
    "print(result)\n",
    "# now you have to find the 20 most common \n",
    "# ??..."
   ]
  },
  {
   "cell_type": "code",
   "execution_count": null,
   "metadata": {},
   "outputs": [],
   "source": [
    "# an easier way using Counter()\n",
    "result = Counter(all_words)\n",
    "print(result.most_common(20))"
   ]
  }
 ],
 "metadata": {
  "kernelspec": {
   "display_name": "Python 3",
   "language": "python",
   "name": "python3"
  },
  "language_info": {
   "codemirror_mode": {
    "name": "ipython",
    "version": 3
   },
   "file_extension": ".py",
   "mimetype": "text/x-python",
   "name": "python",
   "nbconvert_exporter": "python",
   "pygments_lexer": "ipython3",
   "version": "3.6.3"
  }
 },
 "nbformat": 4,
 "nbformat_minor": 1
}
