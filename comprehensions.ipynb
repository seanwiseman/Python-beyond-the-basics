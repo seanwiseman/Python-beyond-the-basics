{
 "cells": [
  {
   "cell_type": "markdown",
   "metadata": {},
   "source": [
    "# Comprehensions"
   ]
  },
  {
   "cell_type": "code",
   "execution_count": null,
   "metadata": {},
   "outputs": [],
   "source": [
    "# some utlities\n",
    "\n",
    "import pprint\n",
    "import requests\n",
    "\n",
    "ARTICLES_URL= 'https://api.elifesciences.org/articles'\n",
    "\n",
    "pp = pprint.PrettyPrinter(indent=4)\n",
    "\n",
    "\n",
    "def get_data(url=''):\n",
    "    response = requests.get(url=url)\n",
    "    if response.status_code == 200:\n",
    "        return response.json()\n",
    "    return {}\n",
    "\n",
    "\n",
    "def get_article_items():\n",
    "    return get_data(url=ARTICLES_URL)['items']\n"
   ]
  },
  {
   "cell_type": "markdown",
   "metadata": {},
   "source": [
    "## list"
   ]
  },
  {
   "cell_type": "code",
   "execution_count": null,
   "metadata": {},
   "outputs": [],
   "source": [
    "articles = []\n",
    "\n",
    "for a in get_article_items():\n",
    "    if a['version'] > 2:\n",
    "        articles.append(a)\n",
    "\n",
    "print('{} articles added'.format(len(articles)))\n",
    "pp.pprint(articles)"
   ]
  },
  {
   "cell_type": "code",
   "execution_count": null,
   "metadata": {},
   "outputs": [],
   "source": [
    "# now using a list comprehension\n",
    "articles = [a for a in get_article_items() if a['version'] > 2] \n",
    "\n",
    "print('{} articles added'.format(len(articles)))\n",
    "pp.pprint(articles)"
   ]
  },
  {
   "cell_type": "markdown",
   "metadata": {},
   "source": [
    "## dict\n"
   ]
  },
  {
   "cell_type": "code",
   "execution_count": null,
   "metadata": {},
   "outputs": [],
   "source": [
    "article_titles = {}\n",
    "\n",
    "for article in get_article_items():\n",
    "    article_titles[article['id']] = article['title']\n",
    "    \n",
    "pp.pprint(article_titles)"
   ]
  },
  {
   "cell_type": "code",
   "execution_count": null,
   "metadata": {},
   "outputs": [],
   "source": [
    "# now using a dict comprehension\n",
    "article_titles = {article['id']: article['title'] for article in get_article_items()}\n",
    "\n",
    "pp.pprint(article_titles)"
   ]
  },
  {
   "cell_type": "markdown",
   "metadata": {},
   "source": [
    "# set"
   ]
  },
  {
   "cell_type": "code",
   "execution_count": null,
   "metadata": {},
   "outputs": [],
   "source": [
    "# using a set comprehension\n",
    "email_addresses = ['marc@foo.com', 'steve@foo.com', 'jen@bar.com',\n",
    "                   'jen@foo.com', 'steve@foo.com','marc@foo.com',]\n",
    "\n",
    "unique_emails = {email for email in email_addresses}\n",
    "\n",
    "print(unique_emails)"
   ]
  },
  {
   "cell_type": "markdown",
   "metadata": {},
   "source": [
    "# generator"
   ]
  },
  {
   "cell_type": "code",
   "execution_count": null,
   "metadata": {},
   "outputs": [],
   "source": [
    "for num in [i ** 3 for i in range(10000)]:\n",
    "    # creates a large list of numbers in memory\n",
    "    print(num)\n",
    "    "
   ]
  },
  {
   "cell_type": "code",
   "execution_count": null,
   "metadata": {},
   "outputs": [],
   "source": [
    "numbers = (i ** 3 for i in range(10000))\n",
    "\n",
    "print(numbers)  # have a look at its current state\n",
    "\n",
    "for num in numbers:\n",
    "    print(num)"
   ]
  }
 ],
 "metadata": {
  "kernelspec": {
   "display_name": "Python 3",
   "language": "python",
   "name": "python3"
  },
  "language_info": {
   "codemirror_mode": {
    "name": "ipython",
    "version": 3
   },
   "file_extension": ".py",
   "mimetype": "text/x-python",
   "name": "python",
   "nbconvert_exporter": "python",
   "pygments_lexer": "ipython3",
   "version": "3.6.3"
  }
 },
 "nbformat": 4,
 "nbformat_minor": 1
}
